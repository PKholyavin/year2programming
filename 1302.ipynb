{
  "cells": [
    {
      "cell_type": "code",
      "execution_count": null,
      "metadata": {
        "colab": {
          "base_uri": "https://localhost:8080/"
        },
        "id": "fSO-4fHv4CA1",
        "outputId": "ade40fc8-e988-455e-c730-5dea95f40181"
      },
      "outputs": [
        {
          "data": {
            "text/plain": [
              "0.30000000000000004"
            ]
          },
          "execution_count": 1,
          "metadata": {},
          "output_type": "execute_result"
        }
      ],
      "source": [
        "0.1 + 0.2"
      ]
    },
    {
      "cell_type": "code",
      "execution_count": null,
      "metadata": {
        "colab": {
          "base_uri": "https://localhost:8080/"
        },
        "id": "On-0Y0O5CBxv",
        "outputId": "195164cc-5ade-46ea-8935-dfce78ba7ac1"
      },
      "outputs": [
        {
          "name": "stdout",
          "output_type": "stream",
          "text": [
            "0.5\n"
          ]
        }
      ],
      "source": [
        "sent = \"a b c a c a b b d a\"\n",
        "sent = sent.split(\" \")\n",
        "#P(b|a)\n",
        "\n",
        "#count(a b) / count(a)\n",
        "\n",
        "# counter = 0\n",
        "# for word in sent:\n",
        "#   if word == \"a\":\n",
        "#     counter += 1\n",
        "\n",
        "counter = sent.count(\"a\")\n",
        "\n",
        "counter_2 = 0\n",
        "for index, word in enumerate(sent[:-1]):\n",
        "    if word == \"a\" and sent[index + 1] == \"b\":\n",
        "      counter_2 += 1\n",
        "\n",
        "print(counter_2 / counter)"
      ]
    },
    {
      "cell_type": "code",
      "execution_count": null,
      "metadata": {
        "id": "Bkf4LZX6IDbh"
      },
      "outputs": [],
      "source": [
        "def word_prob(sent, word_1, word_2):\n",
        "  counter = sent.count(word_1)\n",
        "\n",
        "  counter_2 = 0\n",
        "  for index, word in enumerate(sent[:-1]):\n",
        "      if word == word_1 and sent[index + 1] == word_2:\n",
        "        counter_2 += 1\n",
        "\n",
        "  return counter_2 / counter"
      ]
    },
    {
      "cell_type": "code",
      "execution_count": null,
      "metadata": {
        "colab": {
          "base_uri": "https://localhost:8080/"
        },
        "id": "nthyKi9EIXsm",
        "outputId": "87583adb-9bff-4164-e991-ec262882bb0f"
      },
      "outputs": [
        {
          "name": "stdout",
          "output_type": "stream",
          "text": [
            "0.5\n"
          ]
        }
      ],
      "source": [
        "print(word_prob(sent, \"a\", \"b\"))"
      ]
    },
    {
      "cell_type": "code",
      "execution_count": null,
      "metadata": {
        "colab": {
          "base_uri": "https://localhost:8080/"
        },
        "id": "MsRkc_TSIvqN",
        "outputId": "928e11bf-cc95-41f6-80e0-17fe371bd06b"
      },
      "outputs": [
        {
          "name": "stdout",
          "output_type": "stream",
          "text": [
            "{'c c': 0.0, 'c b': 0.0, 'c a': 1.0, 'c d': 0.0, 'b c': 0.3333333333333333, 'b b': 0.3333333333333333, 'b a': 0.0, 'b d': 0.3333333333333333, 'a c': 0.25, 'a b': 0.5, 'a a': 0.0, 'a d': 0.0, 'd c': 0.0, 'd b': 0.0, 'd a': 1.0, 'd d': 0.0}\n"
          ]
        }
      ],
      "source": [
        "distribution = dict()\n",
        "unique_words = set(sent)\n",
        "for word in unique_words:\n",
        "  for word_2 in unique_words:\n",
        "    distribution[word + \" \" + word_2] = word_prob(sent, word, word_2)\n",
        "\n",
        "print(distribution)"
      ]
    },
    {
      "attachments": {},
      "cell_type": "markdown",
      "metadata": {},
      "source": [
        "Задание: написать программу, которая читает из текстового файла произвольный текст и вычисляет для всех возможных пар слов (a, b) из словаря текста вероятность того, что за словом a последует слово b.\n",
        "\n",
        "Результат нужно записать в новый файл в отсортированном порядке, каждая вероятность на своей строке:\n",
        "\n",
        "word1 word1 0.1\n",
        "\n",
        "word1 word2 0.2\n",
        "\n",
        "и так далее"
      ]
    }
  ],
  "metadata": {
    "colab": {
      "provenance": []
    },
    "kernelspec": {
      "display_name": "Python 3",
      "language": "python",
      "name": "python3"
    },
    "language_info": {
      "name": "python",
      "version": "3.9.0"
    },
    "vscode": {
      "interpreter": {
        "hash": "364dcd152da2692276e72902df2858159ccc300c15062838033fe03303e9b26c"
      }
    }
  },
  "nbformat": 4,
  "nbformat_minor": 0
}
