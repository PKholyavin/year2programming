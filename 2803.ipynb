{
 "cells": [
  {
   "attachments": {},
   "cell_type": "markdown",
   "metadata": {},
   "source": [
    "Чтение файлов .seg"
   ]
  },
  {
   "attachments": {},
   "cell_type": "markdown",
   "metadata": {},
   "source": [
    "Откроем файл cta0001.seg_B2 и посмотрим, на какой по счёту строчке что расположено"
   ]
  },
  {
   "cell_type": "code",
   "execution_count": 2,
   "metadata": {},
   "outputs": [
    {
     "name": "stdout",
     "output_type": "stream",
     "text": [
      "0\t[PARAMETERS]\n",
      "1\tSAMPLING_FREQ=22050\n",
      "2\tBYTE_PER_SAMPLE=2\n",
      "3\tCODE=0\n",
      "4\tN_CHANNEL=1\n",
      "5\tN_LABEL=13\n",
      "6\t[LABELS]\n",
      "7\t0,32,j\n",
      "8\t8492,32,u0\n",
      "9\t12708,32,r'\n",
      "10\t13708,32,i4 j\n",
      "11\t18180,32,t\n",
      "12\t24904,32,r'\n",
      "13\t25940,32,i0\n",
      "14\t31544,32,f\n",
      "15\t36806,32,a4\n",
      "16\t38604,32,n\n",
      "17\t41618,32,a4\n",
      "18\t44508,32,f\n",
      "19\t54662,32,\n"
     ]
    }
   ],
   "source": [
    "with open(\"cta0001.seg_B2\", \"r\", encoding=\"utf-8-sig\") as f:\n",
    "    lines = f.readlines()\n",
    "\n",
    "for i, line in enumerate(lines):\n",
    "    print(f\"{i}\\t{line.strip()}\")"
   ]
  },
  {
   "attachments": {},
   "cell_type": "markdown",
   "metadata": {},
   "source": [
    "Позиция каждой метки выражена как номер байта!\n",
    "\n",
    "Номер байта = номер отсчёта * к-во байт на отсчёт * к-во каналов"
   ]
  },
  {
   "attachments": {},
   "cell_type": "markdown",
   "metadata": {},
   "source": [
    "Соответствие уровней (что выведет код?):"
   ]
  },
  {
   "cell_type": "code",
   "execution_count": null,
   "metadata": {},
   "outputs": [],
   "source": [
    "from itertools import product\n",
    "letters = \"GBRY\"\n",
    "nums = \"1234\"\n",
    "levels = [ch + num for num, ch in product(nums, letters)]\n",
    "level_codes = [2 ** i for i in range(len(levels))]\n",
    "levels = dict(zip(levels, level_codes))\n",
    "print(levels)"
   ]
  },
  {
   "attachments": {},
   "cell_type": "markdown",
   "metadata": {},
   "source": [
    "Хак для определения кодировки:"
   ]
  },
  {
   "cell_type": "code",
   "execution_count": 11,
   "metadata": {},
   "outputs": [],
   "source": [
    "def detect_encoding(file_path):\n",
    "    encoding = \"utf-8\"\n",
    "    try:\n",
    "        l = open(file_path, 'r', encoding=\"utf-8\").read()\n",
    "        if l.startswith(\"\\ufeff\"):\n",
    "            encoding = \"utf-8-sig\"\n",
    "    except UnicodeDecodeError:\n",
    "        try:\n",
    "            open(file_path, 'r', encoding=\"utf-16\").read()\n",
    "            encoding = \"utf-16\"\n",
    "        except UnicodeError:\n",
    "            encoding = \"cp1251\"\n",
    "    return encoding"
   ]
  },
  {
   "attachments": {},
   "cell_type": "markdown",
   "metadata": {},
   "source": [
    "Если вы пишете сег-файл в кодировке utf-8, выбирайте utf-8-sig! Иначе WA не будет воспринимать их как utf-8"
   ]
  },
  {
   "attachments": {},
   "cell_type": "markdown",
   "metadata": {},
   "source": [
    "Задание: написать программу для чтения и записи файлов .seg. Использовать её для:\n",
    "1. Изменения одноканального файла в двухканальный\n",
    "2. Разделения меток разных уровней по разным файлам\n",
    "\n",
    "Необходимо написать две функции: одна принимает на вход имя файла и возвращает параметры и метки, другая принимает на вход имя файла, параметры и метки и записывает сег-файл. Параметры должны быть организованы как словарь, метки - как список словарей с полями \"sample_position\" (положение метки в *отсчётах*!), \"level\", \"name\""
   ]
  }
 ],
 "metadata": {
  "kernelspec": {
   "display_name": "Python 3",
   "language": "python",
   "name": "python3"
  },
  "language_info": {
   "codemirror_mode": {
    "name": "ipython",
    "version": 3
   },
   "file_extension": ".py",
   "mimetype": "text/x-python",
   "name": "python",
   "nbconvert_exporter": "python",
   "pygments_lexer": "ipython3",
   "version": "3.9.0"
  },
  "orig_nbformat": 4
 },
 "nbformat": 4,
 "nbformat_minor": 2
}
