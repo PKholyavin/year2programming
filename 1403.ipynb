{
 "cells": [
  {
   "attachments": {},
   "cell_type": "markdown",
   "metadata": {},
   "source": [
    "Группы"
   ]
  },
  {
   "cell_type": "code",
   "execution_count": null,
   "metadata": {},
   "outputs": [],
   "source": [
    "import re\n",
    "text = \"123abc4bac3288d\"\n",
    "\n",
    "for m in re.finditer(\"(\\d)([a-z])\", text):\n",
    "    print(m.group(0), m.group(1), m.group(2))"
   ]
  },
  {
   "cell_type": "code",
   "execution_count": null,
   "metadata": {},
   "outputs": [],
   "source": [
    "text = \"123abc4bac3288d\"\n",
    "\n",
    "print(re.sub(\"(\\d)([a-z])\", r\"\\1!\\2\", text))"
   ]
  },
  {
   "cell_type": "code",
   "execution_count": null,
   "metadata": {},
   "outputs": [],
   "source": [
    "text = \"a b a c c a a d d a b c a c a b c\"\n",
    "\n",
    "for m in re.finditer(r\"([a-z]) \\1\", text):\n",
    "    print(m.group(0))"
   ]
  },
  {
   "attachments": {},
   "cell_type": "markdown",
   "metadata": {},
   "source": [
    "Именованные группы"
   ]
  },
  {
   "cell_type": "code",
   "execution_count": null,
   "metadata": {},
   "outputs": [],
   "source": [
    "text = \"123abc4bac3288d\"\n",
    "\n",
    "for m in re.finditer(\"(?P<name>\\d)([a-z])\", text):\n",
    "    print(m.group('name'))"
   ]
  },
  {
   "cell_type": "code",
   "execution_count": null,
   "metadata": {},
   "outputs": [],
   "source": [
    "text = \"123abc4bac3288d\"\n",
    "\n",
    "print(re.sub(\"(?P<name>\\d)([a-z])\", r\"\\g<name>!\\2\", text))"
   ]
  },
  {
   "attachments": {},
   "cell_type": "markdown",
   "metadata": {},
   "source": [
    "Lookahead"
   ]
  },
  {
   "cell_type": "code",
   "execution_count": null,
   "metadata": {},
   "outputs": [],
   "source": [
    "# positive lookahead\n",
    "text = \"123abc4bac3288d\"\n",
    "\n",
    "for m in re.finditer(\"[a-z](?=\\d)\", text): \n",
    "    print(m.group())"
   ]
  },
  {
   "cell_type": "code",
   "execution_count": null,
   "metadata": {},
   "outputs": [],
   "source": [
    "# negative lookahead\n",
    "text = \"123abc4bac3288d\"\n",
    "\n",
    "for m in re.finditer(\"[a-z](?!\\d)\", text):\n",
    "    print(m.group())"
   ]
  },
  {
   "attachments": {},
   "cell_type": "markdown",
   "metadata": {},
   "source": [
    "Lookbehind"
   ]
  },
  {
   "cell_type": "code",
   "execution_count": null,
   "metadata": {},
   "outputs": [],
   "source": [
    "# positive lookbehind\n",
    "text = \"123abc4bac3288d\"\n",
    "\n",
    "for m in re.finditer(\"(?<=\\d)[a-z]\", text): \n",
    "    print(m.group())"
   ]
  },
  {
   "cell_type": "code",
   "execution_count": null,
   "metadata": {},
   "outputs": [],
   "source": [
    "# negative lookbehind\n",
    "text = \"123abc4bac3288d\"\n",
    "\n",
    "for m in re.finditer(\"(?<!\\d)[a-z]\", text): \n",
    "    print(m.group())"
   ]
  },
  {
   "attachments": {},
   "cell_type": "markdown",
   "metadata": {},
   "source": [
    "Задание:\n",
    "\n",
    "В тексте, который вы скачали из Википедии, все слова разбить на открытые слоги дефисами, а все числа окружить кавычками. Записать результат в текстовый файл."
   ]
  },
  {
   "cell_type": "code",
   "execution_count": null,
   "metadata": {},
   "outputs": [],
   "source": [
    "input = \"Был тихий серый вечер. Наш автобус номер 7 шёл на запад.\"\n",
    "output = 'Был ти-хий се-рый ве-чер. Наш а-вто-бус но-мер \"7\" шёл на за-пад.'"
   ]
  }
 ],
 "metadata": {
  "kernelspec": {
   "display_name": "Python 3",
   "language": "python",
   "name": "python3"
  },
  "language_info": {
   "codemirror_mode": {
    "name": "ipython",
    "version": 3
   },
   "file_extension": ".py",
   "mimetype": "text/x-python",
   "name": "python",
   "nbconvert_exporter": "python",
   "pygments_lexer": "ipython3",
   "version": "3.9.0"
  },
  "orig_nbformat": 4
 },
 "nbformat": 4,
 "nbformat_minor": 2
}
