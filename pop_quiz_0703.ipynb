{
  "nbformat": 4,
  "nbformat_minor": 0,
  "metadata": {
    "colab": {
      "provenance": []
    },
    "kernelspec": {
      "name": "python3",
      "display_name": "Python 3"
    },
    "language_info": {
      "name": "python"
    }
  },
  "cells": [
    {
      "cell_type": "markdown",
      "source": [
        "1. Расшифруйте регулярное выражение"
      ],
      "metadata": {
        "id": "eYBjVQOHlbap"
      }
    },
    {
      "cell_type": "code",
      "execution_count": 3,
      "metadata": {
        "id": "RnkdkSJXlR03"
      },
      "outputs": [],
      "source": [
        "\"ш.+-м.+\""
      ]
    },
    {
      "cell_type": "markdown",
      "source": [
        "2. Расшифруйте регулярное выражение\n"
      ],
      "metadata": {
        "id": "Q43wbe-kp5bv"
      }
    },
    {
      "cell_type": "code",
      "source": [
        "\"#[\\da-f][\\da-f][\\da-f][\\da-f][\\da-f][\\da-f]\""
      ],
      "metadata": {
        "id": "BtkXWCV6se8s"
      },
      "execution_count": null,
      "outputs": []
    },
    {
      "cell_type": "markdown",
      "source": [
        "3. Расшифруйте регулярное выражение"
      ],
      "metadata": {
        "id": "Z4irpK0isfQ0"
      }
    },
    {
      "cell_type": "code",
      "source": [
        "\"\\d\\. ?[А-ЯЁ][а-яё]+ [А-ЯЁ][а-яё]+\""
      ],
      "metadata": {
        "id": "ernRgXfElXZZ"
      },
      "execution_count": null,
      "outputs": []
    }
  ]
}