{
 "cells": [
  {
   "cell_type": "code",
   "execution_count": 2,
   "metadata": {},
   "outputs": [],
   "source": [
    "text = 'Оценка ученика по предмету \"математика\" - 5. По предмету \"биология\" - 4. По предмету \"история\" он получил 4. Оценка по предмету \"физкультура\" - 3. Балл по предмету \"русский язык\" - 5.'"
   ]
  },
  {
   "cell_type": "code",
   "execution_count": 3,
   "metadata": {},
   "outputs": [
    {
     "name": "stdout",
     "output_type": "stream",
     "text": [
      "математика 5\n",
      "биология 4\n",
      "история 4\n",
      "физкультура 3\n",
      "русский язык 5\n"
     ]
    }
   ],
   "source": [
    "import re\n",
    "for m in re.finditer('\"(.+?)\".*?(\\d)', text):\n",
    "    print(f\"{m[1]} {m[2]}\")"
   ]
  }
 ],
 "metadata": {
  "kernelspec": {
   "display_name": "Python 3",
   "language": "python",
   "name": "python3"
  },
  "language_info": {
   "codemirror_mode": {
    "name": "ipython",
    "version": 3
   },
   "file_extension": ".py",
   "mimetype": "text/x-python",
   "name": "python",
   "nbconvert_exporter": "python",
   "pygments_lexer": "ipython3",
   "version": "3.9.0"
  },
  "orig_nbformat": 4
 },
 "nbformat": 4,
 "nbformat_minor": 2
}
