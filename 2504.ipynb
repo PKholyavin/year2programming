{
 "cells": [
  {
   "attachments": {},
   "cell_type": "markdown",
   "metadata": {},
   "source": [
    "Задание:\n",
    "\n",
    "1. Считать метки границ звуков из файла cta0003.seg_B1\n",
    "2. Считать метки границ слов из файла cta0003.seg_Y1 (файл в кодировке utf-8-sig)\n",
    "3. По границам определить звуки, входящие в каждое слово\n",
    "4. Создать произносительный словарь\n",
    "5. Записать его в текстовый файл (каждое слово должно быть в файле только один раз)"
   ]
  },
  {
   "cell_type": "code",
   "execution_count": null,
   "metadata": {},
   "outputs": [],
   "source": [
    "# боткинскую b o0 t k' i4 n s k u4 j u4\n",
    "# в v\n",
    "# где g d' e0\n",
    "..."
   ]
  }
 ],
 "metadata": {
  "kernelspec": {
   "display_name": "Python 3",
   "language": "python",
   "name": "python3"
  },
  "language_info": {
   "name": "python",
   "version": "3.9.0"
  },
  "orig_nbformat": 4
 },
 "nbformat": 4,
 "nbformat_minor": 2
}
