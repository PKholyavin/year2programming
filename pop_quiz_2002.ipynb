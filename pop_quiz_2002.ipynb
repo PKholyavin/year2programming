{
  "nbformat": 4,
  "nbformat_minor": 0,
  "metadata": {
    "colab": {
      "provenance": []
    },
    "kernelspec": {
      "name": "python3",
      "display_name": "Python 3"
    },
    "language_info": {
      "name": "python"
    }
  },
  "cells": [
    {
      "cell_type": "markdown",
      "source": [
        "1. Как проверить, что все элементы одного списка больше соответствующих элементов другого списка?"
      ],
      "metadata": {
        "id": "Q3b7daQYaGSm"
      }
    },
    {
      "cell_type": "code",
      "execution_count": null,
      "metadata": {
        "id": "Tq_xIWVYaBvq"
      },
      "outputs": [],
      "source": [
        "a = [1, 2, 3, 4, 5]\n",
        "b = [6, 7, 8, 9, 10]\n",
        "c = [4, 5, 6, 0, 1]"
      ]
    },
    {
      "cell_type": "markdown",
      "source": [
        "2. Как проверить, что все элементы одного списка больше всех элементов другого списка?"
      ],
      "metadata": {
        "id": "yLQg1uJJayUD"
      }
    },
    {
      "cell_type": "code",
      "source": [
        "a = [1, 2, 3, 4, 5]\n",
        "b = [6, 7, 8, 9, 10]\n",
        "c = [4, 5, 6, 0, 1]"
      ],
      "metadata": {
        "id": "gY7FLxjja6rb"
      },
      "execution_count": null,
      "outputs": []
    },
    {
      "cell_type": "markdown",
      "source": [
        "3. Написать функцию, которая принимает на вход целое число n и выводит на экран \"ёлочку\" из звёздочек высотой n."
      ],
      "metadata": {
        "id": "lweHswRXa7Ej"
      }
    },
    {
      "cell_type": "code",
      "source": [
        "#          * 1 2 * i + 1\n",
        "#         *** 3\n",
        "#        ***** 5\n",
        "#       *******\n",
        "#      *********\n",
        "#     ***********\n",
        "#    *************\n",
        "#   ***************\n",
        "#  *****************\n",
        "# ******************* 0"
      ],
      "metadata": {
        "id": "hAcaF0IDcCoy"
      },
      "execution_count": null,
      "outputs": []
    },
    {
      "cell_type": "code",
      "source": [
        "def tree(n):\n",
        "  pass\n",
        "\n",
        "tree(10)"
      ],
      "metadata": {
        "id": "nuVvL2TObMVy"
      },
      "execution_count": null,
      "outputs": []
    }
  ]
}