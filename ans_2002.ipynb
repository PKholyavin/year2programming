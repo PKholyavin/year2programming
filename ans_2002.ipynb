{
  "nbformat": 4,
  "nbformat_minor": 0,
  "metadata": {
    "colab": {
      "provenance": []
    },
    "kernelspec": {
      "name": "python3",
      "display_name": "Python 3"
    },
    "language_info": {
      "name": "python"
    }
  },
  "cells": [
    {
      "cell_type": "markdown",
      "source": [
        "1. Как проверить, что все элементы одного списка больше соответствующих элементов другого списка?"
      ],
      "metadata": {
        "id": "Q3b7daQYaGSm"
      }
    },
    {
      "cell_type": "code",
      "execution_count": null,
      "metadata": {
        "id": "Tq_xIWVYaBvq",
        "colab": {
          "base_uri": "https://localhost:8080/"
        },
        "outputId": "019db4df-0da6-4def-8af2-7f716fd365cb"
      },
      "outputs": [
        {
          "output_type": "stream",
          "name": "stdout",
          "text": [
            "True\n",
            "False\n"
          ]
        }
      ],
      "source": [
        "a = [1, 2, 3, 4, 5]\n",
        "b = [6, 7, 8, 9, 10]\n",
        "c = [4, 5, 6, 0, 1]\n",
        "\n",
        "def compare(list1, list2):\n",
        "  for x, y in zip(list1, list2):\n",
        "    if x <= y:\n",
        "      return False\n",
        "  return True\n",
        "\n",
        "print(compare(b, a))\n",
        "print(compare(c, a))"
      ]
    },
    {
      "cell_type": "markdown",
      "source": [
        "2. Как проверить, что все элементы одного списка больше всех элементов другого списка?"
      ],
      "metadata": {
        "id": "yLQg1uJJayUD"
      }
    },
    {
      "cell_type": "code",
      "source": [
        "a = [1, 2, 3, 4, 5]\n",
        "b = [6, 7, 8, 9, 10]\n",
        "c = [4, 5, 6, 0, 1]\n",
        "\n",
        "def compare_2(list1, list2):\n",
        "  return min(list1) > max(list2)\n",
        "\n",
        "print(compare_2(b, a))\n",
        "print(compare_2(b, c))\n"
      ],
      "metadata": {
        "id": "gY7FLxjja6rb",
        "colab": {
          "base_uri": "https://localhost:8080/"
        },
        "outputId": "35ec574c-f10f-4460-8d07-08cb46d0d851"
      },
      "execution_count": null,
      "outputs": [
        {
          "output_type": "stream",
          "name": "stdout",
          "text": [
            "True\n",
            "False\n"
          ]
        }
      ]
    },
    {
      "cell_type": "markdown",
      "source": [
        "3. Написать функцию, которая принимает на вход целое число n и выводит на экран \"ёлочку\" из звёздочек высотой n."
      ],
      "metadata": {
        "id": "lweHswRXa7Ej"
      }
    },
    {
      "cell_type": "code",
      "source": [
        "#          * 1 2 * i + 1\n",
        "#         *** 3\n",
        "#        ***** 5\n",
        "#       *******\n",
        "#      *********\n",
        "#     ***********\n",
        "#    *************\n",
        "#   ***************\n",
        "#  *****************\n",
        "# ******************* 0"
      ],
      "metadata": {
        "id": "hAcaF0IDcCoy"
      },
      "execution_count": null,
      "outputs": []
    },
    {
      "cell_type": "code",
      "source": [
        "def tree(n):\n",
        "  for i in range(n):\n",
        "    print((n - (i + 1)) * \" \" + (2 * i + 1) * \"*\")\n",
        "\n",
        "tree(15)"
      ],
      "metadata": {
        "id": "nuVvL2TObMVy",
        "colab": {
          "base_uri": "https://localhost:8080/"
        },
        "outputId": "427b8a92-a9c4-4587-a0f3-4930a100d899"
      },
      "execution_count": null,
      "outputs": [
        {
          "output_type": "stream",
          "name": "stdout",
          "text": [
            "              *\n",
            "             ***\n",
            "            *****\n",
            "           *******\n",
            "          *********\n",
            "         ***********\n",
            "        *************\n",
            "       ***************\n",
            "      *****************\n",
            "     *******************\n",
            "    *********************\n",
            "   ***********************\n",
            "  *************************\n",
            " ***************************\n",
            "*****************************\n"
          ]
        }
      ]
    }
  ]
}