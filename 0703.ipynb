{
  "nbformat": 4,
  "nbformat_minor": 0,
  "metadata": {
    "colab": {
      "provenance": []
    },
    "kernelspec": {
      "name": "python3",
      "display_name": "Python 3"
    },
    "language_info": {
      "name": "python"
    }
  },
  "cells": [
    {
      "cell_type": "markdown",
      "source": [
        "Другие символы регулярных выражений:"
      ],
      "metadata": {
        "id": "VoADKCiTl58S"
      }
    },
    {
      "cell_type": "code",
      "source": [
        "import re\n",
        "\n",
        "text = \"aabbaaabbbaaaabbbaaabb\"\n",
        "re.findall(\"a{3}\", text) # количество повторений"
      ],
      "metadata": {
        "id": "qfKNgwdfl0NL"
      },
      "execution_count": null,
      "outputs": []
    },
    {
      "cell_type": "code",
      "source": [
        "re.findall(\"a{1,3}\", text) # диапазон"
      ],
      "metadata": {
        "id": "nMmu9aMjmf5t"
      },
      "execution_count": null,
      "outputs": []
    },
    {
      "cell_type": "code",
      "source": [
        "re.findall(\"a{,3}\", text) # от нуля"
      ],
      "metadata": {
        "id": "MEbiVvFmmza1"
      },
      "execution_count": null,
      "outputs": []
    },
    {
      "cell_type": "code",
      "source": [
        "re.findall(\"a{2,}\", text) # до бесконечности"
      ],
      "metadata": {
        "id": "Q9UMs6iHm4dl"
      },
      "execution_count": null,
      "outputs": []
    },
    {
      "cell_type": "code",
      "source": [
        "text = \"abc123abc32abced331\"\n",
        "re.findall(\"\\d\\d\\d|abc\", text)"
      ],
      "metadata": {
        "id": "raqXAUP5nDc1"
      },
      "execution_count": null,
      "outputs": []
    },
    {
      "cell_type": "markdown",
      "source": [
        "\"Жадность\": операторы *, . и ? - жадные. Они захватывают столько текста, сколько могут."
      ],
      "metadata": {
        "id": "THDtMArtnfWE"
      }
    },
    {
      "cell_type": "code",
      "source": [
        "text = \"<p>some text</p>\"\n",
        "re.findall(\"<.+>\", text)"
      ],
      "metadata": {
        "id": "Hv1v6b4Lnh28"
      },
      "execution_count": null,
      "outputs": []
    },
    {
      "cell_type": "markdown",
      "source": [
        "Чтобы изменить их поведение, поставим дополнительный ?"
      ],
      "metadata": {
        "id": "w1tIXdASn9I7"
      }
    },
    {
      "cell_type": "code",
      "source": [
        "text = \"<p>some text</p>\"\n",
        "re.findall(\"<.+?>\", text)"
      ],
      "metadata": {
        "id": "DGINBaVYns4V"
      },
      "execution_count": null,
      "outputs": []
    },
    {
      "cell_type": "markdown",
      "source": [
        "Другие функции из re"
      ],
      "metadata": {
        "id": "l7wlFn0NhtLg"
      }
    },
    {
      "cell_type": "code",
      "execution_count": null,
      "metadata": {
        "id": "CfrsK-P5hIRP"
      },
      "outputs": [],
      "source": [
        "re.match(\"\\d\", \"12345\") # начало строки"
      ]
    },
    {
      "cell_type": "markdown",
      "source": [
        "Match object"
      ],
      "metadata": {
        "id": "0kAfi9FziVx4"
      }
    },
    {
      "cell_type": "code",
      "source": [
        "m = re.match(\"\\d\\d\", \"12abcdef\")\n",
        "print(m.start(), m.end()) # начало и конец\n",
        "print(m.span()) # начало и конец в одном кортеже\n",
        "print(m.group()) # совпавший фрагмент строки\n",
        "print(m.string) # исходная строка\n",
        "print(m.re) # исходное регулярное выражение"
      ],
      "metadata": {
        "id": "kbWZmXsWidt7"
      },
      "execution_count": null,
      "outputs": []
    },
    {
      "cell_type": "code",
      "source": [
        "re.search(\"\\d\", \"abc1bcd32\") # первый встретившийся"
      ],
      "metadata": {
        "id": "c9vONIV-h5rE"
      },
      "execution_count": null,
      "outputs": []
    },
    {
      "cell_type": "code",
      "source": [
        "for m in re.finditer(\"\\d\", \"a1bcd34ef1\"):\n",
        "  print(m)"
      ],
      "metadata": {
        "id": "49CYqAxXiAWk"
      },
      "execution_count": null,
      "outputs": []
    },
    {
      "cell_type": "code",
      "source": [
        "text = \"abc123abc\"\n",
        "res = re.sub(\"\\d+\", \"<digits removed>\", text)\n",
        "print(res)"
      ],
      "metadata": {
        "id": "fCUkbB1zkA7p"
      },
      "execution_count": null,
      "outputs": []
    },
    {
      "cell_type": "code",
      "source": [
        "text = \"abc   abd\\tabc  a bc      a\"\n",
        "res = re.sub(\"\\s+\", \" \", text)\n",
        "print(res)"
      ],
      "metadata": {
        "id": "zQn3KDUJkSqB"
      },
      "execution_count": null,
      "outputs": []
    },
    {
      "cell_type": "markdown",
      "source": [
        "Полезный трюк: walrus operator"
      ],
      "metadata": {
        "id": "WwW4G-TJjoXb"
      }
    },
    {
      "cell_type": "code",
      "source": [
        "text = \"abc123abc\"\n",
        "#text = \"abcabc\"\n",
        "if m := re.search(\"\\d+\", text):\n",
        "  print(m.group())\n",
        "else:\n",
        "  print(\"no digits\")"
      ],
      "metadata": {
        "id": "Mb7ELJ9djoF6"
      },
      "execution_count": null,
      "outputs": []
    },
    {
      "cell_type": "markdown",
      "source": [
        "Задание:\n",
        "\n",
        "1. Скачать страницу из Википедии.\n",
        "2. Прочитать её как обычный текстовый файл.\n",
        "3. Удалить все html-теги, оставив только текст.\n",
        "4. Разбить текст на предложения, сохранив всю пунктуацию. Итоговый результат должен быть списком, каждый элемент которого - строка, содержащая одно предложение. Подумайте, как отличить конец предложения от сокращения.\n",
        "5. Построить частотный словарь текста (с учётом прописных букв)."
      ],
      "metadata": {
        "id": "4Ax3RqBKoO1j"
      }
    },
    {
      "cell_type": "code",
      "source": [
        "\"abc\".upper()"
      ],
      "metadata": {
        "id": "PYsMPcPKpLEq"
      },
      "execution_count": null,
      "outputs": []
    },
    {
      "cell_type": "code",
      "source": [
        "\"ABC\".lower()"
      ],
      "metadata": {
        "id": "V7vuoBhzpQda"
      },
      "execution_count": null,
      "outputs": []
    },
    {
      "cell_type": "code",
      "source": [
        "\"abc\".capitalize()"
      ],
      "metadata": {
        "id": "tg3Hpnh0pTKR"
      },
      "execution_count": null,
      "outputs": []
    }
  ]
}