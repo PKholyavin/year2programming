{
 "cells": [
  {
   "attachments": {},
   "cell_type": "markdown",
   "metadata": {},
   "source": [
    "1. a) Что выведет код?"
   ]
  },
  {
   "cell_type": "code",
   "execution_count": null,
   "metadata": {},
   "outputs": [],
   "source": [
    "import re\n",
    "text = \"abc (ab) (c ab) abc bacd dbc (a db) (ad bc) abcad\"\n",
    "\n",
    "text_new = re.sub(\"\\(.+\\)\", \"\", text)\n",
    "print(text_new)"
   ]
  },
  {
   "attachments": {},
   "cell_type": "markdown",
   "metadata": {},
   "source": [
    "b) Что можно исправить в коде выше?"
   ]
  },
  {
   "attachments": {},
   "cell_type": "markdown",
   "metadata": {},
   "source": [
    "2. Написать регулярное выражение, которое описывает время в формате (H)H:MM (24 часа)"
   ]
  },
  {
   "cell_type": "code",
   "execution_count": null,
   "metadata": {},
   "outputs": [],
   "source": [
    "test_times = \"12:45 33:88 01:59 24:01 444:03 2:48 13:20 hh:9 13.10\".split(\" \")\n",
    "time_regex = \"\"\n",
    "\n",
    "for time in test_times:\n",
    "    if re.fullmatch(time_regex, time):\n",
    "        print(time)"
   ]
  }
 ],
 "metadata": {
  "kernelspec": {
   "display_name": "Python 3",
   "language": "python",
   "name": "python3"
  },
  "language_info": {
   "codemirror_mode": {
    "name": "ipython",
    "version": 3
   },
   "file_extension": ".py",
   "mimetype": "text/x-python",
   "name": "python",
   "nbconvert_exporter": "python",
   "pygments_lexer": "ipython3",
   "version": "3.9.0"
  },
  "orig_nbformat": 4
 },
 "nbformat": 4,
 "nbformat_minor": 2
}
