{
 "cells": [
  {
   "attachments": {},
   "cell_type": "markdown",
   "metadata": {},
   "source": [
    "Дано:\n",
    "1. Последовательность пар случайных целых чисел от 1 до 100 (отсортированных по возрастанию)\n",
    "2. Последовательность случайных вещественных чисел от 1 до 100 (в случайном порядке)\n",
    "\n",
    "Задание:\n",
    "\n",
    "Для каждой пары чисел a, b из последовательности (1) определить, какие числа из последовательности (2) лежат между a и b. По очереди вывести на экран каждую пару и числа для неё в отсортированном порядке."
   ]
  },
  {
   "cell_type": "code",
   "execution_count": null,
   "metadata": {},
   "outputs": [],
   "source": [
    "# пример вывода:\n",
    "# [1, 5]\n",
    "# [1.2345, 2.3456, 3.4567]\n",
    "# [8, 12]\n",
    "# [8.0001, 9.0002, 10.0003, 11.0004]"
   ]
  },
  {
   "cell_type": "code",
   "execution_count": null,
   "metadata": {},
   "outputs": [],
   "source": [
    "# сгенерируем первую последовательность\n",
    "import random\n",
    "seq1_len = random.randint(5, 8)\n",
    "seq1_nums = sorted(random.sample(range(100), seq1_len * 2))\n",
    "seq1 = [[a, b] for a, b in zip(seq1_nums[::2], seq1_nums[1::2])]\n",
    "print(seq1)"
   ]
  },
  {
   "cell_type": "code",
   "execution_count": null,
   "metadata": {},
   "outputs": [],
   "source": [
    "# сгенерируем вторую последовательность\n",
    "seq2_len = random.randint(50, 80)\n",
    "seq2 = [round(random.random() * 100, 4) for _ in range(seq2_len)]\n",
    "print(seq2)"
   ]
  },
  {
   "cell_type": "code",
   "execution_count": null,
   "metadata": {},
   "outputs": [],
   "source": []
  }
 ],
 "metadata": {
  "kernelspec": {
   "display_name": "Python 3",
   "language": "python",
   "name": "python3"
  },
  "language_info": {
   "codemirror_mode": {
    "name": "ipython",
    "version": 3
   },
   "file_extension": ".py",
   "mimetype": "text/x-python",
   "name": "python",
   "nbconvert_exporter": "python",
   "pygments_lexer": "ipython3",
   "version": "3.9.0"
  },
  "orig_nbformat": 4
 },
 "nbformat": 4,
 "nbformat_minor": 2
}
