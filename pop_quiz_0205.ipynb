{
 "cells": [
  {
   "attachments": {},
   "cell_type": "markdown",
   "metadata": {},
   "source": [
    "Дан список числовых значений ```values``` и два целых числа ```h``` и s, т.ч. ```s``` &lt; ```h```. Создать список, содержащий суммы значений списка ```values``` на отрезках длиной ```h``` таких, чтобы первый отрезок начинался с нулевого элемента ```values``` и начало каждого следующего отрезка было бы больше начала предыдущего на ```s```. Такие отрезки называются окнами или фреймами."
   ]
  },
  {
   "cell_type": "code",
   "execution_count": 1,
   "metadata": {},
   "outputs": [],
   "source": [
    "import random\n",
    "values = [round(random.random(), 3) for _ in range(random.randint(100, 200))]\n",
    "h = 12\n",
    "s = 3"
   ]
  },
  {
   "cell_type": "code",
   "execution_count": null,
   "metadata": {},
   "outputs": [],
   "source": [
    "print(values)"
   ]
  }
 ],
 "metadata": {
  "kernelspec": {
   "display_name": "Python 3",
   "language": "python",
   "name": "python3"
  },
  "language_info": {
   "codemirror_mode": {
    "name": "ipython",
    "version": 3
   },
   "file_extension": ".py",
   "mimetype": "text/x-python",
   "name": "python",
   "nbconvert_exporter": "python",
   "pygments_lexer": "ipython3",
   "version": "3.9.0"
  },
  "orig_nbformat": 4
 },
 "nbformat": 4,
 "nbformat_minor": 2
}
