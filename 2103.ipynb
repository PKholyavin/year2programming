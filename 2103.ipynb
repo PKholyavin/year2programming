{
 "cells": [
  {
   "attachments": {},
   "cell_type": "markdown",
   "metadata": {},
   "source": [
    "Модуль wave\n",
    "\n",
    "1. Чтение"
   ]
  },
  {
   "cell_type": "code",
   "execution_count": null,
   "metadata": {},
   "outputs": [],
   "source": [
    "import wave\n",
    "import struct\n",
    "\n",
    "f = wave.open(\"cta0001.wav\")\n",
    "# f = wave.open(\"cta0001_stereo.wav\")\n",
    "\n",
    "num_samples = f.getnframes()\n",
    "print(num_samples)\n",
    "samplerate = f.getframerate()\n",
    "sampwidth = f.getsampwidth()\n",
    "num_channels = f.getnchannels()\n",
    "\n",
    "fmt = str(num_samples * num_channels) + (\"h\" if sampwidth == 2 else \"c\")  # на практике обычно 2 байта на отсчёт\n",
    "# полную таблицу соответствий см. здесь: https://docs.python.org/3/library/struct.html\n",
    "\n",
    "signal_bytes = f.readframes(num_samples * num_channels)\n",
    "print(signal_bytes) # объект bytes\n",
    "signal = struct.unpack(fmt, signal_bytes)\n",
    "print(signal) # кортеж с отсчётами"
   ]
  },
  {
   "cell_type": "code",
   "execution_count": null,
   "metadata": {},
   "outputs": [],
   "source": [
    "# никто не мешает написать сразу так:\n",
    "signal = struct.unpack(fmt, f.readframes(num_samples * num_channels))"
   ]
  },
  {
   "cell_type": "code",
   "execution_count": null,
   "metadata": {},
   "outputs": [],
   "source": [
    "# stereo file\n",
    "left = signal[::2]\n",
    "right = signal[1::2]\n",
    "left == right # в этом файле левый канал совпадает с правым, поэтому True"
   ]
  },
  {
   "cell_type": "markdown",
   "metadata": {},
   "source": [
    "2. Запись"
   ]
  },
  {
   "cell_type": "code",
   "execution_count": 10,
   "metadata": {},
   "outputs": [],
   "source": [
    "from math import sin\n",
    "\n",
    "# зададим параметры файла\n",
    "samplerate = 22050\n",
    "sampwidth = 2\n",
    "num_channels = 1\n",
    "num_samples = samplerate * 2\n",
    "fmt = str(num_samples) + (\"h\" if sampwidth == 2 else \"c\")\n",
    "\n",
    "# сгенерируем синусоиду\n",
    "ampl = 2 ** 14\n",
    "sine = [int(ampl * sin(x / 20)) for x in range(num_samples)]\n",
    "signal = struct.pack(fmt, *sine)\n",
    "\n",
    "# запишем её в файл\n",
    "f = wave.open(\"output.wav\", \"wb\")\n",
    "f.setnchannels(num_channels)\n",
    "f.setsampwidth(sampwidth)\n",
    "f.setframerate(samplerate)\n",
    "f.writeframes(signal)\n",
    "f.close()"
   ]
  },
  {
   "attachments": {},
   "cell_type": "markdown",
   "metadata": {},
   "source": [
    "3. Чтение файлов без заголовка (.sbl)"
   ]
  },
  {
   "cell_type": "code",
   "execution_count": null,
   "metadata": {},
   "outputs": [],
   "source": [
    "samplerate = 22050\n",
    "sampwidth = 2\n",
    "num_channels = 1\n",
    "\n",
    "with open(\"cta0001.sbl\", \"rb\") as f:\n",
    "    raw_signal = f.read()\n",
    "\n",
    "num_samples = len(raw_signal) // sampwidth\n",
    "fmt = str(num_samples) + (\"h\" if sampwidth == 2 else \"c\")\n",
    "signal = struct.unpack(fmt, raw_signal)"
   ]
  },
  {
   "attachments": {},
   "cell_type": "markdown",
   "metadata": {},
   "source": [
    "4. Запись файлов без заголовка (.sbl)"
   ]
  },
  {
   "cell_type": "code",
   "execution_count": 9,
   "metadata": {},
   "outputs": [],
   "source": [
    "from math import sin\n",
    "\n",
    "samplerate = 22050\n",
    "sampwidth = 2\n",
    "num_channels = 1\n",
    "num_samples = samplerate * 2\n",
    "fmt = str(num_samples) + (\"h\" if sampwidth == 2 else \"c\")\n",
    "\n",
    "ampl = 2 ** 14\n",
    "sine = [int(ampl * sin(x / 20)) for x in range(num_samples)]\n",
    "signal = struct.pack(fmt, *sine)\n",
    "\n",
    "f = open(\"output.sbl\", \"wb\")\n",
    "f.write(signal)\n",
    "f.close()"
   ]
  },
  {
   "attachments": {},
   "cell_type": "markdown",
   "metadata": {},
   "source": [
    "Задание:\n",
    "\n",
    "1. Написать программу для преобразования файла .wav в файл .sbl\n",
    "2. Написать программу для преобразования файла .sbl в файл .wav\n",
    "3. Написать программу для деления файла .wav пополам и записи обеих половинок в разные файлы"
   ]
  }
 ],
 "metadata": {
  "kernelspec": {
   "display_name": "Python 3",
   "language": "python",
   "name": "python3"
  },
  "language_info": {
   "codemirror_mode": {
    "name": "ipython",
    "version": 3
   },
   "file_extension": ".py",
   "mimetype": "text/x-python",
   "name": "python",
   "nbconvert_exporter": "python",
   "pygments_lexer": "ipython3",
   "version": "3.9.0"
  },
  "orig_nbformat": 4,
  "vscode": {
   "interpreter": {
    "hash": "364dcd152da2692276e72902df2858159ccc300c15062838033fe03303e9b26c"
   }
  }
 },
 "nbformat": 4,
 "nbformat_minor": 2
}
